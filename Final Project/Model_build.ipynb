{
 "cells": [
  {
   "cell_type": "code",
   "execution_count": 1,
   "metadata": {},
   "outputs": [],
   "source": [
    "import pandas as pd\n",
    "import numpy as np\n",
    "import matplotlib.pyplot as plt\n",
    "import seaborn as sns\n",
    "pd.set_option('display.max_columns', 60)\n",
    "import data_processing\n",
    "import warnings\n",
    "warnings.filterwarnings(\"ignore\")\n",
    "from pathlib import Path"
   ]
  },
  {
   "cell_type": "code",
   "execution_count": 2,
   "metadata": {},
   "outputs": [],
   "source": [
    "l_train_s = pd.read_csv('data_analytics_datagame/light_train_source_labels.csv', index_col='user_id')\n",
    "l_train_t = pd.read_csv('data_analytics_datagame/light_train_target_labels.csv', index_col='user_id')\n",
    "l_test_s = pd.read_csv('data_analytics_datagame/light_test_source_labels.csv', index_col='user_id')\n",
    "\n",
    "slot_train_pr = pd.read_csv(\"slot_train_pr.csv\", index_col=\"user_id\")\n",
    "slot_test_pr = pd.read_csv(\"slot_test_pr.csv\", index_col=\"user_id\")\n",
    "slot_train_log = pd.read_csv(\"slot_train_log.csv\", index_col=\"user_id\")\n",
    "slot_test_log = pd.read_csv(\"slot_test_log.csv\", index_col=\"user_id\")"
   ]
  },
  {
   "cell_type": "markdown",
   "metadata": {},
   "source": [
    "# Fine-Tuning: Tree Structure"
   ]
  },
  {
   "cell_type": "code",
   "execution_count": 3,
   "metadata": {},
   "outputs": [],
   "source": [
    "import xgboost as xgb\n",
    "from sklearn.metrics import accuracy_score, balanced_accuracy_score, average_precision_score, roc_auc_score, roc_curve, auc\n",
    "from sklearn.model_selection import RandomizedSearchCV, GridSearchCV\n",
    "from sklearn.model_selection import train_test_split"
   ]
  },
  {
   "cell_type": "code",
   "execution_count": 30,
   "metadata": {},
   "outputs": [],
   "source": [
    "X_train = pd.concat([l_train_s, slot_train_log.iloc[:,-112:]], axis=1)\n",
    "y_train = l_train_t\n",
    "X_test = pd.concat([l_test_s, slot_test_log.iloc[:,-112:]], axis=1)"
   ]
  },
  {
   "cell_type": "code",
   "execution_count": null,
   "metadata": {},
   "outputs": [],
   "source": [
    "model =  xgb.XGBClassifier(device='cuda', objective='binary:logistic', eval_metric='auc', scale_pos_weight=7)\n",
    "param_dist = {\n",
    "    \"max_depth\": [3,5,7],\n",
    "    \"min_child_weight\": [1, 3, 5, 7, 9],\n",
    "    \"gamma\": [0.1, 0.2, 0.3, 0.4, 0.5]\n",
    "}\n",
    "random_search = RandomizedSearchCV(\n",
    "    model,\n",
    "    param_distributions=param_dist,\n",
    "    n_iter=20,\n",
    "    scoring=\"roc_auc\",\n",
    "    cv=3,\n",
    "    verbose=3,\n",
    "    random_state=42,\n",
    ")\n",
    "random_search.fit(X_train, y_train)\n",
    "print(\"Best parameters from RandomizedSearchCV:\", random_search.best_params_)\n",
    "best_params = random_search.best_params_\n",
    "\n",
    "# 縮小範圍，進行 Grid Search 微調\n",
    "param_grid = {\n",
    "    \"max_depth\": [best_params[\"max_depth\"] - 1, best_params[\"max_depth\"], best_params[\"max_depth\"] + 1],\n",
    "    \"min_child_weight\": [best_params[\"min_child_weight\"] - 1, best_params[\"min_child_weight\"], best_params[\"min_child_weight\"] + 1],\n",
    "    \"gamma\": [best_params[\"gamma\"] - 0.05, best_params[\"gamma\"], best_params[\"gamma\"] + 0.05]\n",
    "}\n",
    "param_grid = {k: [v for v in vals if v >= 0] for k, vals in param_grid.items()}\n",
    "grid_search = GridSearchCV(\n",
    "    model, param_grid=param_grid,\n",
    "    scoring=\"roc_auc\",\n",
    "    cv=3,\n",
    "    verbose=3,\n",
    ")\n",
    "grid_search.fit(X_train, y_train)"
   ]
  },
  {
   "cell_type": "code",
   "execution_count": 7,
   "metadata": {},
   "outputs": [
    {
     "name": "stdout",
     "output_type": "stream",
     "text": [
      "Best parameters from GridSearchCV: {'gamma': 0.05, 'max_depth': 2, 'min_child_weight': 8}\n",
      "Final Model Train AUC: 0.8413\n"
     ]
    }
   ],
   "source": [
    "print(\"Best parameters from GridSearchCV:\", grid_search.best_params_)\n",
    "best_model = grid_search.best_estimator_\n",
    "# 預測與評估\n",
    "y_pred_train = best_model.predict_proba(X_train)\n",
    "train_auc = roc_auc_score(y_train, y_pred_train)\n",
    "print(f\"Final Model Train AUC: {train_auc:.4f}\")"
   ]
  },
  {
   "cell_type": "markdown",
   "metadata": {},
   "source": [
    "# Fine-Tuning: Learning Rate & N Estimators"
   ]
  },
  {
   "cell_type": "code",
   "execution_count": null,
   "metadata": {},
   "outputs": [],
   "source": [
    "# 使用第一階段找到的最佳參數\n",
    "best_tree_params = {\n",
    "    \"max_depth\": 2,\n",
    "    \"min_child_weight\": 8,\n",
    "    \"gamma\": 0.05,\n",
    "    \"scale_pos_weight\": 7\n",
    "}\n",
    "# 定義搜尋範圍\n",
    "param_grid = {\n",
    "    \"learning_rate\": [0.1, 0.2, 0.3],\n",
    "    \"n_estimators\": [300, 500, 1000]\n",
    "}\n",
    "# 設定 XGBoost 分類器\n",
    "xgb_model = xgb.XGBClassifier(\n",
    "    objective=\"binary:logistic\",\n",
    "    eval_metric=\"auc\",\n",
    "    device=\"cuda\",\n",
    "    **best_tree_params  # 套用第一階段找到的最佳參數\n",
    ")\n",
    "# 進行 Grid Search\n",
    "grid_search = GridSearchCV(\n",
    "    xgb_model,\n",
    "    param_grid=param_grid,\n",
    "    scoring=\"roc_auc\",\n",
    "    cv=3,\n",
    "    verbose=3,\n",
    ")\n",
    "grid_search.fit(slot_train_pr, l_train_t)"
   ]
  },
  {
   "cell_type": "code",
   "execution_count": null,
   "metadata": {},
   "outputs": [
    {
     "name": "stdout",
     "output_type": "stream",
     "text": [
      "Best parameters from GridSearchCV: {'learning_rate': 0.1, 'n_estimators': 300}\n",
      "Final Model Train AUC: 0.8440\n"
     ]
    }
   ],
   "source": [
    "# 輸出最佳參數\n",
    "print(\"Best parameters from GridSearchCV:\", grid_search.best_params_)\n",
    "# 取得最佳模型\n",
    "best_model = grid_search.best_estimator_\n",
    "# 預測與評估\n",
    "y_pred_train = best_model.predict_proba(slot_train_pr)\n",
    "train_auc = roc_auc_score(y_train, y_pred_train)\n",
    "\n",
    "print(f\"Final Model Train AUC: {train_auc:.4f}\")"
   ]
  },
  {
   "cell_type": "markdown",
   "metadata": {},
   "source": [
    "# Fine-Tuning: Learning Rate & N Estimators"
   ]
  },
  {
   "cell_type": "code",
   "execution_count": null,
   "metadata": {},
   "outputs": [],
   "source": [
    "# 使用第一階段找到的最佳參數\n",
    "best_tree_eta_params = {\n",
    "    'learning_rate': 0.1,\n",
    "    'n_estimators': 300,\n",
    "    \"max_depth\": 2,\n",
    "    \"min_child_weight\": 8,\n",
    "    \"gamma\": 0.05,\n",
    "    \"scale_pos_weight\": 7\n",
    "}\n",
    "\n",
    "# 定義搜尋範圍\n",
    "param_grid = {\n",
    "    'subsample': [0.3, 0.5, 0.7],\n",
    "    'colsample_bytree': [0.3, 0.5, 0.7],\n",
    "    'colsample_bylevel': [0.3, 0.5, 0.7]\n",
    "}\n",
    "\n",
    "# 設定 XGBoost 分類器\n",
    "xgb_model = xgb.XGBClassifier(\n",
    "    objective=\"binary:logistic\",\n",
    "    eval_metric=\"auc\",\n",
    "    device=\"cuda\",\n",
    "    **best_tree_eta_params  # 套用第一階段找到的最佳參數\n",
    ")\n",
    "# 進行 Grid Search\n",
    "grid_search = GridSearchCV(\n",
    "    xgb_model,\n",
    "    param_grid=param_grid,\n",
    "    scoring=\"roc_auc\",\n",
    "    cv=3,\n",
    "    verbose=3,\n",
    ")\n",
    "grid_search.fit(slot_train_pr, l_train_t)"
   ]
  },
  {
   "cell_type": "code",
   "execution_count": 10,
   "metadata": {},
   "outputs": [
    {
     "name": "stdout",
     "output_type": "stream",
     "text": [
      "Best parameters from GridSearchCV: {'colsample_bylevel': 0.3, 'colsample_bytree': 0.3, 'subsample': 0.3}\n",
      "Final Model Train AUC: 0.8322\n"
     ]
    }
   ],
   "source": [
    "# 輸出最佳參數\n",
    "print(\"Best parameters from GridSearchCV:\", grid_search.best_params_)\n",
    "# 取得最佳模型\n",
    "best_model = grid_search.best_estimator_\n",
    "# 預測與評估\n",
    "y_pred_train = best_model.predict_proba(slot_train_pr)\n",
    "train_auc = roc_auc_score(y_train, y_pred_train)\n",
    "\n",
    "print(f\"Final Model Train AUC: {train_auc:.4f}\")"
   ]
  },
  {
   "cell_type": "code",
   "execution_count": 74,
   "metadata": {},
   "outputs": [],
   "source": [
    "X_train = slot_train_log\n",
    "y_train = l_train_t\n",
    "X_test = slot_test_log"
   ]
  },
  {
   "cell_type": "code",
   "execution_count": 79,
   "metadata": {},
   "outputs": [
    {
     "name": "stdout",
     "output_type": "stream",
     "text": [
      "Final Model Train AUC: 0.8507\n"
     ]
    }
   ],
   "source": [
    "best_params = {\n",
    "    'learning_rate': 0.1,\n",
    "    'n_estimators': 300,\n",
    "    \"max_depth\": 2,\n",
    "    \"min_child_weight\": 8,\n",
    "    \"gamma\": 0.05,\n",
    "    \"scale_pos_weight\": 7,\n",
    "    'colsample_bylevel': 0.3,\n",
    "    'colsample_bytree': 0.3,\n",
    "    'subsample': 0.3\n",
    "}\n",
    "\n",
    "xgb_model = xgb.XGBClassifier(\n",
    "    objective=\"binary:logistic\",\n",
    "    eval_metric=\"auc\",\n",
    "    device=\"cuda\",\n",
    "    **best_params  # 套用第一階段找到的最佳參數\n",
    ")\n",
    "\n",
    "xgb_model.fit(X_train, y_train)\n",
    "\n",
    "y_pred_train = xgb_model.predict_proba(X_train)\n",
    "train_auc = roc_auc_score(y_train, y_pred_train)\n",
    "print(f\"Final Model Train AUC: {train_auc:.4f}\")"
   ]
  },
  {
   "cell_type": "code",
   "execution_count": 76,
   "metadata": {},
   "outputs": [],
   "source": [
    "log_predict_train = pd.DataFrame(xgb_model.predict_proba(X_train).astype(\"float64\"),\n",
    "                               index=l_train_s.index,\n",
    "                               columns=[f\"time_slot_log{i}\" for i in range(28)])\n",
    "\n",
    "log_predict_test = pd.DataFrame(xgb_model.predict_proba(X_test).astype(\"float64\"),\n",
    "                               index=l_test_s.index,\n",
    "                               columns=[f\"time_slot_log{i}\" for i in range(28)])"
   ]
  },
  {
   "cell_type": "code",
   "execution_count": 78,
   "metadata": {},
   "outputs": [],
   "source": [
    "X_train = pd.concat([l_train_s, log_predict_train], axis=1)\n",
    "y_train = l_train_t\n",
    "X_test = pd.concat([l_test_s, log_predict_test], axis=1)"
   ]
  },
  {
   "cell_type": "code",
   "execution_count": 80,
   "metadata": {},
   "outputs": [],
   "source": [
    "test_prediction = pd.DataFrame(xgb_model.predict_proba(X_test),\n",
    "                               index=l_test_s.index,\n",
    "                               columns=[f\"time_slot_{i}\" for i in range(28)])"
   ]
  },
  {
   "cell_type": "code",
   "execution_count": 81,
   "metadata": {},
   "outputs": [],
   "source": [
    "test_prediction.to_csv('test_prediction.csv')"
   ]
  }
 ],
 "metadata": {
  "kernelspec": {
   "display_name": "Python 3",
   "language": "python",
   "name": "python3"
  },
  "language_info": {
   "codemirror_mode": {
    "name": "ipython",
    "version": 3
   },
   "file_extension": ".py",
   "mimetype": "text/x-python",
   "name": "python",
   "nbconvert_exporter": "python",
   "pygments_lexer": "ipython3",
   "version": "3.12.3"
  }
 },
 "nbformat": 4,
 "nbformat_minor": 2
}
